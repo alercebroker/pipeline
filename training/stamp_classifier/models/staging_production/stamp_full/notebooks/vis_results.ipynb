{
 "cells": [
  {
   "cell_type": "code",
   "execution_count": 1,
   "metadata": {},
   "outputs": [
    {
     "name": "stdout",
     "output_type": "stream",
     "text": [
      "/home/dmoreno/pipeline_v4_final/pipeline/training/stamp_classifier/models/staging_production/stamp_full\n"
     ]
    }
   ],
   "source": [
    "%cd ../"
   ]
  },
  {
   "cell_type": "code",
   "execution_count": 2,
   "metadata": {},
   "outputs": [],
   "source": [
    "import pandas as pd"
   ]
  },
  {
   "cell_type": "code",
   "execution_count": null,
   "metadata": {},
   "outputs": [
    {
     "data": {
      "text/html": [
       "<div>\n",
       "<style scoped>\n",
       "    .dataframe tbody tr th:only-of-type {\n",
       "        vertical-align: middle;\n",
       "    }\n",
       "\n",
       "    .dataframe tbody tr th {\n",
       "        vertical-align: top;\n",
       "    }\n",
       "\n",
       "    .dataframe thead th {\n",
       "        text-align: right;\n",
       "    }\n",
       "</style>\n",
       "<table border=\"1\" class=\"dataframe\">\n",
       "  <thead>\n",
       "    <tr style=\"text-align: right;\">\n",
       "      <th></th>\n",
       "      <th>agn</th>\n",
       "      <th>asteroid</th>\n",
       "      <th>bogus</th>\n",
       "      <th>satellite</th>\n",
       "      <th>sn</th>\n",
       "      <th>vs</th>\n",
       "    </tr>\n",
       "    <tr>\n",
       "      <th>oid</th>\n",
       "      <th></th>\n",
       "      <th></th>\n",
       "      <th></th>\n",
       "      <th></th>\n",
       "      <th></th>\n",
       "      <th></th>\n",
       "    </tr>\n",
       "  </thead>\n",
       "  <tbody>\n",
       "    <tr>\n",
       "      <th>ZTF18acrvifj</th>\n",
       "      <td>1.221719e-05</td>\n",
       "      <td>9.903250e-01</td>\n",
       "      <td>0.000197</td>\n",
       "      <td>1.993752e-07</td>\n",
       "      <td>9.450044e-03</td>\n",
       "      <td>1.580009e-05</td>\n",
       "    </tr>\n",
       "    <tr>\n",
       "      <th>ZTF20abkxmgb</th>\n",
       "      <td>8.426841e-07</td>\n",
       "      <td>1.529842e-07</td>\n",
       "      <td>0.999998</td>\n",
       "      <td>2.914571e-08</td>\n",
       "      <td>3.219790e-09</td>\n",
       "      <td>1.148059e-06</td>\n",
       "    </tr>\n",
       "    <tr>\n",
       "      <th>ZTF19acarncj</th>\n",
       "      <td>7.374448e-01</td>\n",
       "      <td>3.164024e-05</td>\n",
       "      <td>0.230347</td>\n",
       "      <td>3.660985e-05</td>\n",
       "      <td>2.454875e-02</td>\n",
       "      <td>7.591172e-03</td>\n",
       "    </tr>\n",
       "    <tr>\n",
       "      <th>ZTF20aawjbfj</th>\n",
       "      <td>6.156632e-07</td>\n",
       "      <td>6.610673e-07</td>\n",
       "      <td>0.999997</td>\n",
       "      <td>1.602697e-08</td>\n",
       "      <td>2.026477e-09</td>\n",
       "      <td>1.520097e-06</td>\n",
       "    </tr>\n",
       "    <tr>\n",
       "      <th>ZTF19aacwhdf</th>\n",
       "      <td>2.033554e-07</td>\n",
       "      <td>9.998984e-01</td>\n",
       "      <td>0.000025</td>\n",
       "      <td>7.800836e-08</td>\n",
       "      <td>7.555925e-05</td>\n",
       "      <td>3.281676e-07</td>\n",
       "    </tr>\n",
       "    <tr>\n",
       "      <th>...</th>\n",
       "      <td>...</td>\n",
       "      <td>...</td>\n",
       "      <td>...</td>\n",
       "      <td>...</td>\n",
       "      <td>...</td>\n",
       "      <td>...</td>\n",
       "    </tr>\n",
       "    <tr>\n",
       "      <th>ZTF18aagwylf</th>\n",
       "      <td>2.292129e-05</td>\n",
       "      <td>4.533070e-07</td>\n",
       "      <td>0.999970</td>\n",
       "      <td>1.003769e-07</td>\n",
       "      <td>2.262507e-08</td>\n",
       "      <td>6.241665e-06</td>\n",
       "    </tr>\n",
       "    <tr>\n",
       "      <th>ZTF18aarkrua</th>\n",
       "      <td>2.613807e-03</td>\n",
       "      <td>2.393072e-02</td>\n",
       "      <td>0.973189</td>\n",
       "      <td>3.463901e-07</td>\n",
       "      <td>4.505763e-06</td>\n",
       "      <td>2.617263e-04</td>\n",
       "    </tr>\n",
       "    <tr>\n",
       "      <th>ZTF18aapwhnu</th>\n",
       "      <td>3.625893e-04</td>\n",
       "      <td>6.694619e-07</td>\n",
       "      <td>0.999572</td>\n",
       "      <td>9.640830e-07</td>\n",
       "      <td>4.371095e-07</td>\n",
       "      <td>6.289403e-05</td>\n",
       "    </tr>\n",
       "    <tr>\n",
       "      <th>ZTF18aaipkfp</th>\n",
       "      <td>1.049898e-02</td>\n",
       "      <td>3.584574e-04</td>\n",
       "      <td>0.988128</td>\n",
       "      <td>3.757779e-05</td>\n",
       "      <td>2.847894e-05</td>\n",
       "      <td>9.484143e-04</td>\n",
       "    </tr>\n",
       "    <tr>\n",
       "      <th>ZTF18aagxsix</th>\n",
       "      <td>1.708607e-05</td>\n",
       "      <td>8.500455e-08</td>\n",
       "      <td>0.999979</td>\n",
       "      <td>6.733552e-08</td>\n",
       "      <td>5.122655e-08</td>\n",
       "      <td>3.281136e-06</td>\n",
       "    </tr>\n",
       "  </tbody>\n",
       "</table>\n",
       "<p>9862 rows × 6 columns</p>\n",
       "</div>"
      ],
      "text/plain": [
       "                       agn      asteroid     bogus     satellite  \\\n",
       "oid                                                                \n",
       "ZTF18acrvifj  1.221719e-05  9.903250e-01  0.000197  1.993752e-07   \n",
       "ZTF20abkxmgb  8.426841e-07  1.529842e-07  0.999998  2.914571e-08   \n",
       "ZTF19acarncj  7.374448e-01  3.164024e-05  0.230347  3.660985e-05   \n",
       "ZTF20aawjbfj  6.156632e-07  6.610673e-07  0.999997  1.602697e-08   \n",
       "ZTF19aacwhdf  2.033554e-07  9.998984e-01  0.000025  7.800836e-08   \n",
       "...                    ...           ...       ...           ...   \n",
       "ZTF18aagwylf  2.292129e-05  4.533070e-07  0.999970  1.003769e-07   \n",
       "ZTF18aarkrua  2.613807e-03  2.393072e-02  0.973189  3.463901e-07   \n",
       "ZTF18aapwhnu  3.625893e-04  6.694619e-07  0.999572  9.640830e-07   \n",
       "ZTF18aaipkfp  1.049898e-02  3.584574e-04  0.988128  3.757779e-05   \n",
       "ZTF18aagxsix  1.708607e-05  8.500455e-08  0.999979  6.733552e-08   \n",
       "\n",
       "                        sn            vs  \n",
       "oid                                       \n",
       "ZTF18acrvifj  9.450044e-03  1.580009e-05  \n",
       "ZTF20abkxmgb  3.219790e-09  1.148059e-06  \n",
       "ZTF19acarncj  2.454875e-02  7.591172e-03  \n",
       "ZTF20aawjbfj  2.026477e-09  1.520097e-06  \n",
       "ZTF19aacwhdf  7.555925e-05  3.281676e-07  \n",
       "...                    ...           ...  \n",
       "ZTF18aagwylf  2.262507e-08  6.241665e-06  \n",
       "ZTF18aarkrua  4.505763e-06  2.617263e-04  \n",
       "ZTF18aapwhnu  4.371095e-07  6.289403e-05  \n",
       "ZTF18aaipkfp  2.847894e-05  9.484143e-04  \n",
       "ZTF18aagxsix  5.122655e-08  3.281136e-06  \n",
       "\n",
       "[9862 rows x 6 columns]"
      ]
     },
     "execution_count": 3,
     "metadata": {},
     "output_type": "execute_result"
    }
   ],
   "source": [
    "order_classes = [\n",
    "        'agn', 'asteroid', 'bogus', 'satellite', 'sn', 'vs'\n",
    "    ]\n",
    "\n",
    "#path_results = './results/stamp_v1/predictions_test.parquet'\n",
    "path_results = './results/stamp_full_1.0.0/predictions_test.parquet'\n",
    "predictions = pd.read_parquet(path_results)\n",
    "predictions"
   ]
  },
  {
   "cell_type": "code",
   "execution_count": 4,
   "metadata": {},
   "outputs": [
    {
     "data": {
      "text/plain": [
       "array(['asteroid', 'bogus', 'agn', ..., 'bogus', 'bogus', 'bogus'],\n",
       "      dtype=object)"
      ]
     },
     "execution_count": 4,
     "metadata": {},
     "output_type": "execute_result"
    }
   ],
   "source": [
    "y_pred_test = predictions.idxmax(axis=1).values\n",
    "y_pred_test"
   ]
  },
  {
   "cell_type": "code",
   "execution_count": 5,
   "metadata": {},
   "outputs": [
    {
     "data": {
      "text/plain": [
       "array(['asteroid', 'bogus', 'bogus', ..., 'bogus', 'bogus', 'bogus'],\n",
       "      dtype=object)"
      ]
     },
     "execution_count": 5,
     "metadata": {},
     "output_type": "execute_result"
    }
   ],
   "source": [
    "ROOT = \"../../../data_acquisition/data\"\n",
    "path_stamps = \"{}/test_first_stamps_dataset.pkl\".format(ROOT)\n",
    "all_stamps = pd.read_pickle(path_stamps)\n",
    "all_stamps = all_stamps.reindex(predictions.index)\n",
    "y_real_test = all_stamps['class'].values\n",
    "y_real_test"
   ]
  },
  {
   "cell_type": "code",
   "execution_count": 6,
   "metadata": {},
   "outputs": [
    {
     "data": {
      "image/png": "[encoded data removed]",
      "text/plain": [
       "<Figure size 1100x1100 with 1 Axes>"
      ]
     },
     "metadata": {},
     "output_type": "display_data"
    }
   ],
   "source": [
    "from sklearn.metrics import confusion_matrix\n",
    "import matplotlib.pyplot as plt\n",
    "import numpy as np\n",
    "\n",
    "fs = 12\n",
    "\n",
    "cm = confusion_matrix(y_true=y_real_test, y_pred=y_pred_test, labels=order_classes, normalize='true')\n",
    "\n",
    "cmap = plt.cm.Blues\n",
    "fig, ax = plt.subplots(figsize=(11, 11)) #, dpi=110)\n",
    "im = ax.imshow(np.around(cm, decimals=2), interpolation='nearest', cmap=cmap)\n",
    "\n",
    "# color map\n",
    "new_color = cmap(1.0) \n",
    "\n",
    "# Añadiendo manualmente las anotaciones con la media y desviación estándar\n",
    "for i in range(cm.shape[0]):\n",
    "    for j in range(cm.shape[1]):\n",
    "        if cm[i, j] >= 0.005:\n",
    "            #print(cm[i, j])\n",
    "            text = f'{np.around(cm[i, j], decimals=2)}'\n",
    "            color = \"white\" if cm[i, j] > 0.5 else new_color  # Blanco para la diagonal, tono de azul para otras celdas\n",
    "            ax.text(j, i, text, ha=\"center\", va=\"center\", color=color, fontsize=fs)\n",
    "        else:\n",
    "            text = f'{np.around(cm[i, j], decimals=2)}'\n",
    "            color = \"white\" if cm[i, j] > 0.5 else new_color  # Blanco para la diagonal, tono de azul para otras celdas\n",
    "            ax.text(j, i, text, ha=\"center\", va=\"center\", color=color, fontsize=fs)\n",
    "\n",
    "# Ajustes finales y mostrar la gráfica\n",
    "ax.tick_params(axis='both', which='major', labelsize=12)\n",
    "ax.set_xticks(np.arange(len(order_classes)))\n",
    "ax.set_yticks(np.arange(len(order_classes)))\n",
    "ax.set_xticklabels(order_classes)\n",
    "ax.set_yticklabels(order_classes)\n",
    "plt.setp(ax.get_xticklabels(), rotation=90, ha=\"right\", rotation_mode=\"anchor\")\n",
    "\n",
    "title = '/'.join(path_results.split('/')[1:-1])\n",
    "ax.set_title(title, fontsize=16, pad=13)\n",
    "ax.set_xlabel('Predicted label', fontsize=16, labelpad=13)  # Label del eje x\n",
    "ax.set_ylabel('True label', fontsize=16, labelpad=13)        # Label del eje y\n",
    "\n",
    "ax.xaxis.label.set_size(16)\n",
    "ax.yaxis.label.set_size(16)\n",
    "ax.xaxis.labelpad = 13\n",
    "ax.yaxis.labelpad = 13\n",
    "\n",
    "plt.tight_layout()\n",
    "plt.show()"
   ]
  },
  {
   "cell_type": "code",
   "execution_count": 7,
   "metadata": {},
   "outputs": [
    {
     "data": {
      "text/plain": [
       "0.8784458813333257"
      ]
     },
     "execution_count": 7,
     "metadata": {},
     "output_type": "execute_result"
    }
   ],
   "source": [
    "from sklearn.metrics import f1_score\n",
    "from sklearn.metrics import classification_report\n",
    "\n",
    "f1 = f1_score(y_real_test, y_pred_test, average='macro')\n",
    "f1"
   ]
  },
  {
   "cell_type": "code",
   "execution_count": 33,
   "metadata": {},
   "outputs": [
    {
     "name": "stdout",
     "output_type": "stream",
     "text": [
      "                precision    recall  f1-score   support\n",
      "\n",
      "           AGN       0.83      0.75      0.79       591\n",
      "        Blazar       0.73      0.82      0.77       289\n",
      "           CEP       0.91      0.83      0.87       588\n",
      "       CV/Nova       0.77      0.90      0.83       348\n",
      "          DSCT       0.89      0.86      0.87       329\n",
      "            EA       0.87      0.80      0.83       593\n",
      "         EB/EW       0.83      0.81      0.82       591\n",
      "           LPV       0.96      0.93      0.95       593\n",
      "  Microlensing       0.24      0.71      0.36         7\n",
      "Periodic-Other       0.52      0.53      0.53       262\n",
      "           QSO       0.85      0.86      0.85       594\n",
      "         RRLab       0.93      0.94      0.94       593\n",
      "          RRLc       0.91      0.90      0.90       592\n",
      "         RSCVn       0.74      0.80      0.77       505\n",
      "          SLSN       0.33      0.66      0.44        41\n",
      "          SNII       0.74      0.65      0.69       317\n",
      "         SNIIb       0.09      0.08      0.08        26\n",
      "         SNIIn       0.25      0.37      0.30        59\n",
      "          SNIa       0.87      0.73      0.80       592\n",
      "         SNIbc       0.37      0.49      0.42       108\n",
      "           TDE       0.27      0.82      0.41        17\n",
      "           YSO       0.80      0.84      0.82       576\n",
      "\n",
      "      accuracy                           0.81      8211\n",
      "     macro avg       0.67      0.73      0.68      8211\n",
      "  weighted avg       0.82      0.81      0.82      8211\n",
      "\n"
     ]
    }
   ],
   "source": [
    "report = classification_report(y_real_test, y_pred_test, output_dict=False)\n",
    "print(report)"
   ]
  },
  {
   "cell_type": "code",
   "execution_count": 17,
   "metadata": {},
   "outputs": [],
   "source": [
    "# [0.332, 0.350, ]"
   ]
  },
  {
   "cell_type": "code",
   "execution_count": null,
   "metadata": {},
   "outputs": [],
   "source": []
  }
 ],
 "metadata": {
  "kernelspec": {
   "display_name": "stamp_clf",
   "language": "python",
   "name": "python3"
  },
  "language_info": {
   "codemirror_mode": {
    "name": "ipython",
    "version": 3
   },
   "file_extension": ".py",
   "mimetype": "text/x-python",
   "name": "python",
   "nbconvert_exporter": "python",
   "pygments_lexer": "ipython3",
   "version": "3.11.0"
  }
 },
 "nbformat": 4,
 "nbformat_minor": 2
}
