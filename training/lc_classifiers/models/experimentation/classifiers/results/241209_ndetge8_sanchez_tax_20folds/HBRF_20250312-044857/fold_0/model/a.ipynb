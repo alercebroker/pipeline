{
 "cells": [
  {
   "cell_type": "code",
   "execution_count": 1,
   "metadata": {},
   "outputs": [
    {
     "name": "stdout",
     "output_type": "stream",
     "text": [
      "a.ipynb  hierarchical_random_forest_model.pkl\n"
     ]
    }
   ],
   "source": [
    "%ls"
   ]
  },
  {
   "cell_type": "code",
   "execution_count": 3,
   "metadata": {},
   "outputs": [
    {
     "name": "stdout",
     "output_type": "stream",
     "text": [
      "<class 'dict'>\n"
     ]
    }
   ],
   "source": [
    "import pickle\n",
    "\n",
    "# Cargar el modelo desde el archivo pkl\n",
    "with open(\"hierarchical_random_forest_model.pkl\", \"rb\") as file:\n",
    "    model = pickle.load(file)\n",
    "\n",
    "# Revisar el tipo de objeto cargado\n",
    "print(type(model))\n"
   ]
  },
  {
   "cell_type": "code",
   "execution_count": 5,
   "metadata": {},
   "outputs": [
    {
     "data": {
      "text/plain": [
       "array(['g_r_mean_12', 'g_r_max_12', 'g_r_mean_corr_12', 'g_r_max_corr_12',\n",
       "       'W1_W2', 'W2_W3', 'W3_W4', 'g_W1', 'r_W1', 'g_W2', 'r_W2', 'g_W3',\n",
       "       'r_W3', 'g_W4', 'r_W4', 'MHPS_ratio_1', 'MHPS_low_1',\n",
       "       'MHPS_high_1', 'MHPS_non_zero_1', 'MHPS_PN_flag_1', 'MHPS_ratio_2',\n",
       "       'MHPS_low_2', 'MHPS_high_2', 'MHPS_non_zero_2', 'MHPS_PN_flag_2',\n",
       "       'GP_DRW_sigma_1', 'GP_DRW_tau_1', 'GP_DRW_sigma_2', 'GP_DRW_tau_2',\n",
       "       'Multiband_period_12', 'PPE_12', 'Period_band_1', 'delta_period_1',\n",
       "       'Period_band_2', 'delta_period_2', 'Power_rate_1_4_12',\n",
       "       'Power_rate_1_3_12', 'Power_rate_1_2_12', 'Power_rate_2_12',\n",
       "       'Power_rate_3_12', 'Power_rate_4_12', 'Psi_CS_1', 'Psi_eta_1',\n",
       "       'Psi_CS_2', 'Psi_eta_2', 'Amplitude_1', 'AndersonDarling_1',\n",
       "       'Autocor_length_1', 'Beyond1Std_1', 'Con_1', 'Eta_e_1', 'Gskew_1',\n",
       "       'MaxSlope_1', 'Mean_1', 'Meanvariance_1', 'MedianAbsDev_1',\n",
       "       'MedianBRP_1', 'PairSlopeTrend_1', 'PercentAmplitude_1', 'Q31_1',\n",
       "       'Rcs_1', 'Skew_1', 'SmallKurtosis_1', 'Std_1', 'StetsonK_1',\n",
       "       'Pvar_1', 'ExcessVar_1', 'SF_ML_amplitude_1', 'SF_ML_gamma_1',\n",
       "       'IAR_phi_1', 'LinearTrend_1', 'Amplitude_2', 'AndersonDarling_2',\n",
       "       'Autocor_length_2', 'Beyond1Std_2', 'Con_2', 'Eta_e_2', 'Gskew_2',\n",
       "       'MaxSlope_2', 'Mean_2', 'Meanvariance_2', 'MedianAbsDev_2',\n",
       "       'MedianBRP_2', 'PairSlopeTrend_2', 'PercentAmplitude_2', 'Q31_2',\n",
       "       'Rcs_2', 'Skew_2', 'SmallKurtosis_2', 'Std_2', 'StetsonK_2',\n",
       "       'Pvar_2', 'ExcessVar_2', 'SF_ML_amplitude_2', 'SF_ML_gamma_2',\n",
       "       'IAR_phi_2', 'LinearTrend_2', 'sgscore1', 'distpsnr1', 'ps_g_r',\n",
       "       'SPM_A_1', 'SPM_t0_1', 'SPM_gamma_1', 'SPM_beta_1',\n",
       "       'SPM_tau_rise_1', 'SPM_tau_fall_1', 'SPM_A_2', 'SPM_t0_2',\n",
       "       'SPM_gamma_2', 'SPM_beta_2', 'SPM_tau_rise_2', 'SPM_tau_fall_2',\n",
       "       'SPM_chi_1', 'SPM_chi_2', 'TDE_decay_1', 'TDE_decay_chi_1',\n",
       "       'TDE_decay_2', 'TDE_decay_chi_2', 'fleet_a_1', 'fleet_w_1',\n",
       "       'fleet_chi_1', 'fleet_a_2', 'fleet_w_2', 'fleet_chi_2',\n",
       "       'color_variation_12', 'positive_fraction_1',\n",
       "       'n_forced_phot_band_before_1', 'dbrightness_first_det_band_1',\n",
       "       'dbrightness_forced_phot_band_1', 'last_brightness_before_band_1',\n",
       "       'max_brightness_before_band_1', 'median_brightness_before_band_1',\n",
       "       'n_forced_phot_band_after_1', 'max_brightness_after_band_1',\n",
       "       'median_brightness_after_band_1', 'positive_fraction_2',\n",
       "       'n_forced_phot_band_before_2', 'dbrightness_first_det_band_2',\n",
       "       'dbrightness_forced_phot_band_2', 'last_brightness_before_band_2',\n",
       "       'max_brightness_before_band_2', 'median_brightness_before_band_2',\n",
       "       'n_forced_phot_band_after_2', 'max_brightness_after_band_2',\n",
       "       'median_brightness_after_band_2', 'ulens_u0_1', 'ulens_tE_1',\n",
       "       'ulens_fs_1', 'ulens_chi_1', 'ulens_u0_2', 'ulens_tE_2',\n",
       "       'ulens_fs_2', 'ulens_chi_2', 'Harmonics_mse_1', 'Harmonics_chi_1',\n",
       "       'Harmonics_mag_1_1', 'Harmonics_mag_2_1', 'Harmonics_phase_2_1',\n",
       "       'Harmonics_mag_3_1', 'Harmonics_phase_3_1', 'Harmonics_mag_4_1',\n",
       "       'Harmonics_phase_4_1', 'Harmonics_mag_5_1', 'Harmonics_phase_5_1',\n",
       "       'Harmonics_mag_6_1', 'Harmonics_phase_6_1', 'Harmonics_mag_7_1',\n",
       "       'Harmonics_phase_7_1', 'Harmonics_mse_2', 'Harmonics_chi_2',\n",
       "       'Harmonics_mag_1_2', 'Harmonics_mag_2_2', 'Harmonics_phase_2_2',\n",
       "       'Harmonics_mag_3_2', 'Harmonics_phase_3_2', 'Harmonics_mag_4_2',\n",
       "       'Harmonics_phase_4_2', 'Harmonics_mag_5_2', 'Harmonics_phase_5_2',\n",
       "       'Harmonics_mag_6_2', 'Harmonics_phase_6_2', 'Harmonics_mag_7_2',\n",
       "       'Harmonics_phase_7_2', 'Timespan', 'Coordinate_x', 'Coordinate_y',\n",
       "       'Coordinate_z', 'MHPS_low_365_2', 'sigma_distnr_12',\n",
       "       'mean_sharpnr_12', 'MHPS_high_30_2', 'ps_r_i', 'mean_distnr_12',\n",
       "       'MHPS_ratio_365_30_2', 'mean_chinr_12', 'ps_i_z', 'MHPS_low_365_1',\n",
       "       'MHPS_high_30_1', 'MHPS_ratio_365_30_1'], dtype=object)"
      ]
     },
     "execution_count": 5,
     "metadata": {},
     "output_type": "execute_result"
    }
   ],
   "source": [
    "model['feature_list']"
   ]
  },
  {
   "cell_type": "code",
   "execution_count": null,
   "metadata": {},
   "outputs": [],
   "source": []
  }
 ],
 "metadata": {
  "kernelspec": {
   "display_name": "hbrf_local",
   "language": "python",
   "name": "python3"
  },
  "language_info": {
   "codemirror_mode": {
    "name": "ipython",
    "version": 3
   },
   "file_extension": ".py",
   "mimetype": "text/x-python",
   "name": "python",
   "nbconvert_exporter": "python",
   "pygments_lexer": "ipython3",
   "version": "3.11.11"
  }
 },
 "nbformat": 4,
 "nbformat_minor": 2
}
